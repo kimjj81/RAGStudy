{
 "cells": [
  {
   "cell_type": "markdown",
   "id": "74495328",
   "metadata": {},
   "source": [
    "https://kimjj81.github.io/2025/06/13/RAG-%EC%A7%88%EC%9D%98-%ED%99%95%EC%9E%A5%EA%B3%BC-%EC%9E%AC%EC%88%9C%EC%9C%84%ED%99%94/ 의 예제"
   ]
  },
  {
   "cell_type": "markdown",
   "id": "f9b6a842",
   "metadata": {},
   "source": [
    "먼저 아래 코드를 실행하여 필요한 라이브러리를 설치"
   ]
  },
  {
   "cell_type": "code",
   "execution_count": 1,
   "id": "8f395d41",
   "metadata": {},
   "outputs": [
    {
     "name": "stdout",
     "output_type": "stream",
     "text": [
      "Requirement already satisfied: sentence-transformers in ./.venv/lib/python3.13/site-packages (4.1.0)\n",
      "Requirement already satisfied: torch in ./.venv/lib/python3.13/site-packages (2.7.1)\n",
      "Requirement already satisfied: transformers in ./.venv/lib/python3.13/site-packages (4.52.4)\n",
      "Requirement already satisfied: tqdm in ./.venv/lib/python3.13/site-packages (from sentence-transformers) (4.67.1)\n",
      "Requirement already satisfied: scikit-learn in ./.venv/lib/python3.13/site-packages (from sentence-transformers) (1.7.0)\n",
      "Requirement already satisfied: scipy in ./.venv/lib/python3.13/site-packages (from sentence-transformers) (1.15.3)\n",
      "Requirement already satisfied: huggingface-hub>=0.20.0 in ./.venv/lib/python3.13/site-packages (from sentence-transformers) (0.33.0)\n",
      "Requirement already satisfied: Pillow in ./.venv/lib/python3.13/site-packages (from sentence-transformers) (11.2.1)\n",
      "Requirement already satisfied: typing_extensions>=4.5.0 in ./.venv/lib/python3.13/site-packages (from sentence-transformers) (4.14.0)\n",
      "Requirement already satisfied: filelock in ./.venv/lib/python3.13/site-packages (from transformers) (3.18.0)\n",
      "Requirement already satisfied: numpy>=1.17 in ./.venv/lib/python3.13/site-packages (from transformers) (2.3.0)\n",
      "Requirement already satisfied: packaging>=20.0 in ./.venv/lib/python3.13/site-packages (from transformers) (25.0)\n",
      "Requirement already satisfied: pyyaml>=5.1 in ./.venv/lib/python3.13/site-packages (from transformers) (6.0.2)\n",
      "Requirement already satisfied: regex!=2019.12.17 in ./.venv/lib/python3.13/site-packages (from transformers) (2024.11.6)\n",
      "Requirement already satisfied: requests in ./.venv/lib/python3.13/site-packages (from transformers) (2.32.4)\n",
      "Requirement already satisfied: tokenizers<0.22,>=0.21 in ./.venv/lib/python3.13/site-packages (from transformers) (0.21.1)\n",
      "Requirement already satisfied: safetensors>=0.4.3 in ./.venv/lib/python3.13/site-packages (from transformers) (0.5.3)\n",
      "Requirement already satisfied: fsspec>=2023.5.0 in ./.venv/lib/python3.13/site-packages (from huggingface-hub>=0.20.0->sentence-transformers) (2025.5.1)\n",
      "Requirement already satisfied: hf-xet<2.0.0,>=1.1.2 in ./.venv/lib/python3.13/site-packages (from huggingface-hub>=0.20.0->sentence-transformers) (1.1.3)\n",
      "Requirement already satisfied: setuptools in ./.venv/lib/python3.13/site-packages (from torch) (80.9.0)\n",
      "Requirement already satisfied: sympy>=1.13.3 in ./.venv/lib/python3.13/site-packages (from torch) (1.14.0)\n",
      "Requirement already satisfied: networkx in ./.venv/lib/python3.13/site-packages (from torch) (3.5)\n",
      "Requirement already satisfied: jinja2 in ./.venv/lib/python3.13/site-packages (from torch) (3.1.6)\n",
      "Requirement already satisfied: mpmath<1.4,>=1.1.0 in ./.venv/lib/python3.13/site-packages (from sympy>=1.13.3->torch) (1.3.0)\n",
      "Requirement already satisfied: MarkupSafe>=2.0 in ./.venv/lib/python3.13/site-packages (from jinja2->torch) (3.0.2)\n",
      "Requirement already satisfied: charset_normalizer<4,>=2 in ./.venv/lib/python3.13/site-packages (from requests->transformers) (3.4.2)\n",
      "Requirement already satisfied: idna<4,>=2.5 in ./.venv/lib/python3.13/site-packages (from requests->transformers) (3.10)\n",
      "Requirement already satisfied: urllib3<3,>=1.21.1 in ./.venv/lib/python3.13/site-packages (from requests->transformers) (2.4.0)\n",
      "Requirement already satisfied: certifi>=2017.4.17 in ./.venv/lib/python3.13/site-packages (from requests->transformers) (2025.4.26)\n",
      "Requirement already satisfied: joblib>=1.2.0 in ./.venv/lib/python3.13/site-packages (from scikit-learn->sentence-transformers) (1.5.1)\n",
      "Requirement already satisfied: threadpoolctl>=3.1.0 in ./.venv/lib/python3.13/site-packages (from scikit-learn->sentence-transformers) (3.6.0)\n"
     ]
    }
   ],
   "source": [
    "!pip install sentence-transformers torch transformers\n"
   ]
  },
  {
   "cell_type": "markdown",
   "id": "a1139d6e",
   "metadata": {},
   "source": [
    "아래 예시는 sentence-transformers 임베딩 모델을 사용해서 질의와 유사한 키워드를 찾아 확장하는 예"
   ]
  },
  {
   "cell_type": "code",
   "execution_count": 2,
   "id": "9b3a5853",
   "metadata": {},
   "outputs": [
    {
     "name": "stderr",
     "output_type": "stream",
     "text": [
      "/Users/kimjeongjin/Repo/RAGStudy/.venv/lib/python3.13/site-packages/tqdm/auto.py:21: TqdmWarning: IProgress not found. Please update jupyter and ipywidgets. See https://ipywidgets.readthedocs.io/en/stable/user_install.html\n",
      "  from .autonotebook import tqdm as notebook_tqdm\n"
     ]
    },
    {
     "name": "stdout",
     "output_type": "stream",
     "text": [
      "🔍 확장된 질의: ['청바지 추천', '바지 스타일 추천', '남성용 청바지', '데님 바지']\n"
     ]
    }
   ],
   "source": [
    "from sentence_transformers import SentenceTransformer, util\n",
    "import torch\n",
    "model = SentenceTransformer(\"sentence-transformers/all-MiniLM-L6-v2\")\n",
    "\n",
    "query = \"청바지 추천\"\n",
    "candidates = [\"데님 바지\", \"슬랙스\", \"남성용 청바지\", \"바지 스타일 추천\", \"티셔츠\"]\n",
    "\n",
    "query_embedding = model.encode(query, convert_to_tensor=True)\n",
    "candidate_embeddings = model.encode(candidates, convert_to_tensor=True)\n",
    "\n",
    "# 유사도 계산\n",
    "cos_scores = util.pytorch_cos_sim(query_embedding, candidate_embeddings)[0]\n",
    "\n",
    "# 상위 유사어 출력\n",
    "top_k = 3\n",
    "top_results = torch.topk(cos_scores, k=top_k)\n",
    "\n",
    "expanded_queries = [candidates[i] for i in top_results.indices]\n",
    "print(\"🔍 확장된 질의:\", [query] + expanded_queries)"
   ]
  },
  {
   "cell_type": "markdown",
   "id": "9d8f4f9f",
   "metadata": {},
   "source": [
    "재순위화 (Re-ranking) 예제\n",
    "\n",
    "transformers의 BERT CrossEncoder를 사용하여 질의-문서쌍 간의 relevance 점수를 계산"
   ]
  },
  {
   "cell_type": "code",
   "execution_count": 3,
   "id": "66ee5551",
   "metadata": {},
   "outputs": [
    {
     "name": "stdout",
     "output_type": "stream",
     "text": [
      "📊 재순위화 결과:\n",
      "1. (8.4297) 청바지는 캐주얼한 착장에 적합합니다.\n",
      "2. (8.2407) 티셔츠 신상품을 확인하세요.\n",
      "3. (8.1952) 남성용 데님 팬츠는 다양한 스타일로 제공됩니다.\n",
      "4. (8.1321) 청소기 성능 비교 가이드입니다.\n"
     ]
    }
   ],
   "source": [
    "from sentence_transformers import CrossEncoder\n",
    "\n",
    "# CrossEncoder는 문서와 질의 쌍을 입력으로 받아 relevance score 출력\n",
    "reranker = CrossEncoder('cross-encoder/ms-marco-MiniLM-L-6-v2')\n",
    "\n",
    "query = \"청바지 추천\"\n",
    "retrieved_docs = [\n",
    "    \"남성용 데님 팬츠는 다양한 스타일로 제공됩니다.\",\n",
    "    \"티셔츠 신상품을 확인하세요.\",\n",
    "    \"청바지는 캐주얼한 착장에 적합합니다.\",\n",
    "    \"청소기 성능 비교 가이드입니다.\"\n",
    "]\n",
    "\n",
    "# (query, 문서) 쌍 생성\n",
    "pairs = [(query, doc) for doc in retrieved_docs]\n",
    "\n",
    "# relevance score 예측\n",
    "scores = reranker.predict(pairs)\n",
    "\n",
    "# 점수 기반 정렬\n",
    "ranked = sorted(zip(retrieved_docs, scores), key=lambda x: x[1], reverse=True)\n",
    "\n",
    "print(\"📊 재순위화 결과:\")\n",
    "for i, (doc, score) in enumerate(ranked):\n",
    "    print(f\"{i+1}. ({score:.4f}) {doc}\")"
   ]
  },
  {
   "cell_type": "markdown",
   "id": "5f42ee65",
   "metadata": {},
   "source": [
    "고도화된 예제 실행을 위해 추가 라이브러리를 설치하세요."
   ]
  },
  {
   "cell_type": "code",
   "execution_count": 4,
   "id": "8966e731",
   "metadata": {},
   "outputs": [
    {
     "name": "stderr",
     "output_type": "stream",
     "text": [
      "huggingface/tokenizers: The current process just got forked, after parallelism has already been used. Disabling parallelism to avoid deadlocks...\n",
      "To disable this warning, you can either:\n",
      "\t- Avoid using `tokenizers` before the fork if possible\n",
      "\t- Explicitly set the environment variable TOKENIZERS_PARALLELISM=(true | false)\n"
     ]
    },
    {
     "name": "stdout",
     "output_type": "stream",
     "text": [
      "Requirement already satisfied: sentence-transformers in ./.venv/lib/python3.13/site-packages (4.1.0)\n",
      "Requirement already satisfied: faiss-cpu in ./.venv/lib/python3.13/site-packages (1.11.0)\n",
      "Requirement already satisfied: pandas in ./.venv/lib/python3.13/site-packages (2.3.0)\n",
      "Requirement already satisfied: transformers<5.0.0,>=4.41.0 in ./.venv/lib/python3.13/site-packages (from sentence-transformers) (4.52.4)\n",
      "Requirement already satisfied: tqdm in ./.venv/lib/python3.13/site-packages (from sentence-transformers) (4.67.1)\n",
      "Requirement already satisfied: torch>=1.11.0 in ./.venv/lib/python3.13/site-packages (from sentence-transformers) (2.7.1)\n",
      "Requirement already satisfied: scikit-learn in ./.venv/lib/python3.13/site-packages (from sentence-transformers) (1.7.0)\n",
      "Requirement already satisfied: scipy in ./.venv/lib/python3.13/site-packages (from sentence-transformers) (1.15.3)\n",
      "Requirement already satisfied: huggingface-hub>=0.20.0 in ./.venv/lib/python3.13/site-packages (from sentence-transformers) (0.33.0)\n",
      "Requirement already satisfied: Pillow in ./.venv/lib/python3.13/site-packages (from sentence-transformers) (11.2.1)\n",
      "Requirement already satisfied: typing_extensions>=4.5.0 in ./.venv/lib/python3.13/site-packages (from sentence-transformers) (4.14.0)\n",
      "Requirement already satisfied: filelock in ./.venv/lib/python3.13/site-packages (from transformers<5.0.0,>=4.41.0->sentence-transformers) (3.18.0)\n",
      "Requirement already satisfied: numpy>=1.17 in ./.venv/lib/python3.13/site-packages (from transformers<5.0.0,>=4.41.0->sentence-transformers) (2.3.0)\n",
      "Requirement already satisfied: packaging>=20.0 in ./.venv/lib/python3.13/site-packages (from transformers<5.0.0,>=4.41.0->sentence-transformers) (25.0)\n",
      "Requirement already satisfied: pyyaml>=5.1 in ./.venv/lib/python3.13/site-packages (from transformers<5.0.0,>=4.41.0->sentence-transformers) (6.0.2)\n",
      "Requirement already satisfied: regex!=2019.12.17 in ./.venv/lib/python3.13/site-packages (from transformers<5.0.0,>=4.41.0->sentence-transformers) (2024.11.6)\n",
      "Requirement already satisfied: requests in ./.venv/lib/python3.13/site-packages (from transformers<5.0.0,>=4.41.0->sentence-transformers) (2.32.4)\n",
      "Requirement already satisfied: tokenizers<0.22,>=0.21 in ./.venv/lib/python3.13/site-packages (from transformers<5.0.0,>=4.41.0->sentence-transformers) (0.21.1)\n",
      "Requirement already satisfied: safetensors>=0.4.3 in ./.venv/lib/python3.13/site-packages (from transformers<5.0.0,>=4.41.0->sentence-transformers) (0.5.3)\n",
      "Requirement already satisfied: fsspec>=2023.5.0 in ./.venv/lib/python3.13/site-packages (from huggingface-hub>=0.20.0->sentence-transformers) (2025.5.1)\n",
      "Requirement already satisfied: hf-xet<2.0.0,>=1.1.2 in ./.venv/lib/python3.13/site-packages (from huggingface-hub>=0.20.0->sentence-transformers) (1.1.3)\n",
      "Requirement already satisfied: python-dateutil>=2.8.2 in ./.venv/lib/python3.13/site-packages (from pandas) (2.9.0.post0)\n",
      "Requirement already satisfied: pytz>=2020.1 in ./.venv/lib/python3.13/site-packages (from pandas) (2025.2)\n",
      "Requirement already satisfied: tzdata>=2022.7 in ./.venv/lib/python3.13/site-packages (from pandas) (2025.2)\n",
      "Requirement already satisfied: six>=1.5 in ./.venv/lib/python3.13/site-packages (from python-dateutil>=2.8.2->pandas) (1.17.0)\n",
      "Requirement already satisfied: setuptools in ./.venv/lib/python3.13/site-packages (from torch>=1.11.0->sentence-transformers) (80.9.0)\n",
      "Requirement already satisfied: sympy>=1.13.3 in ./.venv/lib/python3.13/site-packages (from torch>=1.11.0->sentence-transformers) (1.14.0)\n",
      "Requirement already satisfied: networkx in ./.venv/lib/python3.13/site-packages (from torch>=1.11.0->sentence-transformers) (3.5)\n",
      "Requirement already satisfied: jinja2 in ./.venv/lib/python3.13/site-packages (from torch>=1.11.0->sentence-transformers) (3.1.6)\n",
      "Requirement already satisfied: mpmath<1.4,>=1.1.0 in ./.venv/lib/python3.13/site-packages (from sympy>=1.13.3->torch>=1.11.0->sentence-transformers) (1.3.0)\n",
      "Requirement already satisfied: MarkupSafe>=2.0 in ./.venv/lib/python3.13/site-packages (from jinja2->torch>=1.11.0->sentence-transformers) (3.0.2)\n",
      "Requirement already satisfied: charset_normalizer<4,>=2 in ./.venv/lib/python3.13/site-packages (from requests->transformers<5.0.0,>=4.41.0->sentence-transformers) (3.4.2)\n",
      "Requirement already satisfied: idna<4,>=2.5 in ./.venv/lib/python3.13/site-packages (from requests->transformers<5.0.0,>=4.41.0->sentence-transformers) (3.10)\n",
      "Requirement already satisfied: urllib3<3,>=1.21.1 in ./.venv/lib/python3.13/site-packages (from requests->transformers<5.0.0,>=4.41.0->sentence-transformers) (2.4.0)\n",
      "Requirement already satisfied: certifi>=2017.4.17 in ./.venv/lib/python3.13/site-packages (from requests->transformers<5.0.0,>=4.41.0->sentence-transformers) (2025.4.26)\n",
      "Requirement already satisfied: joblib>=1.2.0 in ./.venv/lib/python3.13/site-packages (from scikit-learn->sentence-transformers) (1.5.1)\n",
      "Requirement already satisfied: threadpoolctl>=3.1.0 in ./.venv/lib/python3.13/site-packages (from scikit-learn->sentence-transformers) (3.6.0)\n"
     ]
    }
   ],
   "source": [
    "!pip install sentence-transformers faiss-cpu pandas"
   ]
  },
  {
   "cell_type": "code",
   "execution_count": 5,
   "id": "168f27b8",
   "metadata": {},
   "outputs": [
    {
     "name": "stdout",
     "output_type": "stream",
     "text": [
      "📊 최종 재순위화 결과:\n",
      "1. (8.2143) 데님은 오래 입을 수 있는 바지 재질입니다.\n",
      "2. (8.1932) 남성용 청바지는 겨울철에도 따뜻합니다.\n",
      "3. (8.0115) 세탁기 추천 상품 모음입니다.\n",
      "4. (7.8539) 청바지는 다양한 스타일로 출시되고 있습니다.\n",
      "5. (7.5124) 스마트폰 신제품이 곧 출시됩니다.\n"
     ]
    }
   ],
   "source": [
    "# Query Expansion + FAISS + Re-ranking\n",
    "\n",
    "from sentence_transformers import SentenceTransformer, CrossEncoder, util\n",
    "import faiss\n",
    "import numpy as np\n",
    "\n",
    "# 문서 컬렉션\n",
    "documents = [\n",
    "    \"청바지는 다양한 스타일로 출시되고 있습니다.\",\n",
    "    \"데님은 오래 입을 수 있는 바지 재질입니다.\",\n",
    "    \"스마트폰 신제품이 곧 출시됩니다.\",\n",
    "    \"남성용 청바지는 겨울철에도 따뜻합니다.\",\n",
    "    \"티셔츠와 바지는 잘 어울리는 조합입니다.\",\n",
    "    \"세탁기 추천 상품 모음입니다.\"\n",
    "]\n",
    "\n",
    "# 1. 문서 임베딩 생성\n",
    "bi_encoder = SentenceTransformer(\"sentence-transformers/all-MiniLM-L6-v2\")\n",
    "document_embeddings = bi_encoder.encode(documents, convert_to_numpy=True)\n",
    "\n",
    "# 2. FAISS 인덱스 생성 및 문서 삽입\n",
    "dimension = document_embeddings.shape[1]\n",
    "index = faiss.IndexFlatL2(dimension)\n",
    "index.add(document_embeddings)\n",
    "\n",
    "# 3. 질의 및 질의 확장\n",
    "query = \"청바지 추천\"\n",
    "expansion_candidates = [\"데님 바지\", \"남성용 청바지\", \"바지 스타일 추천\"]\n",
    "expanded_queries = [query] + expansion_candidates\n",
    "\n",
    "# 4. 확장 질의로 검색 수행\n",
    "top_k = 3\n",
    "retrieved_indices = set()\n",
    "for q in expanded_queries:\n",
    "    q_emb = bi_encoder.encode([q])\n",
    "    _, I = index.search(q_emb, top_k)\n",
    "    for i in I[0]:\n",
    "        retrieved_indices.add(i)\n",
    "\n",
    "retrieved_docs = [documents[i] for i in retrieved_indices]\n",
    "\n",
    "# 5. CrossEncoder로 재순위화\n",
    "cross_encoder = CrossEncoder('cross-encoder/ms-marco-MiniLM-L-6-v2')\n",
    "rerank_pairs = [(query, doc) for doc in retrieved_docs]\n",
    "scores = cross_encoder.predict(rerank_pairs)\n",
    "\n",
    "# 6. 결과 출력\n",
    "ranked = sorted(zip(retrieved_docs, scores), key=lambda x: x[1], reverse=True)\n",
    "\n",
    "print(\"📊 최종 재순위화 결과:\")\n",
    "for i, (doc, score) in enumerate(ranked, 1):\n",
    "    print(f\"{i}. ({score:.4f}) {doc}\")"
   ]
  }
 ],
 "metadata": {
  "kernelspec": {
   "display_name": ".venv",
   "language": "python",
   "name": "python3"
  },
  "language_info": {
   "codemirror_mode": {
    "name": "ipython",
    "version": 3
   },
   "file_extension": ".py",
   "mimetype": "text/x-python",
   "name": "python",
   "nbconvert_exporter": "python",
   "pygments_lexer": "ipython3",
   "version": "3.13.4"
  }
 },
 "nbformat": 4,
 "nbformat_minor": 5
}
